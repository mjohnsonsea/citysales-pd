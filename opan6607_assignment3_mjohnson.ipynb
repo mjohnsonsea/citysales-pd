{
 "cells": [
  {
   "cell_type": "markdown",
   "id": "007adac3-fe0c-4ac9-8367-ee5c66f461c3",
   "metadata": {},
   "source": [
    "# Assignment 3\n",
    "## Mike Johnson\n",
    "### December 4, 2024"
   ]
  },
  {
   "cell_type": "markdown",
   "id": "25ff58d7-edf7-465b-b736-7973c26638e4",
   "metadata": {},
   "source": [
    "****"
   ]
  },
  {
   "cell_type": "markdown",
   "id": "e9057e7d-ece7-4eca-943d-a8bc19e3b846",
   "metadata": {},
   "source": [
    "#### Q1\n",
    "Read in the city_sales20.xlsx Download city_sales20.xlsx data so that the data does note contain any additional text or notes, only the data on offices and sales."
   ]
  },
  {
   "cell_type": "code",
   "execution_count": 1,
   "id": "5ae47835-e8e3-4abd-b981-7a7d4adac973",
   "metadata": {},
   "outputs": [],
   "source": [
    "# Import pandas\n",
    "import pandas as pd"
   ]
  },
  {
   "cell_type": "code",
   "execution_count": 2,
   "id": "8e208286-ab8c-4616-87a3-83b77d70288b",
   "metadata": {},
   "outputs": [],
   "source": [
    "# Read Data\n",
    "df = pd.read_excel('city_sales20.xlsx',\n",
    "                   skiprows = 3,\n",
    "                   skipfooter = 4)"
   ]
  },
  {
   "cell_type": "code",
   "execution_count": 3,
   "id": "3acbbc4b-f762-4ee4-8af4-fb40ea4c1eec",
   "metadata": {},
   "outputs": [
    {
     "data": {
      "text/html": [
       "<div>\n",
       "<style scoped>\n",
       "    .dataframe tbody tr th:only-of-type {\n",
       "        vertical-align: middle;\n",
       "    }\n",
       "\n",
       "    .dataframe tbody tr th {\n",
       "        vertical-align: top;\n",
       "    }\n",
       "\n",
       "    .dataframe thead th {\n",
       "        text-align: right;\n",
       "    }\n",
       "</style>\n",
       "<table border=\"1\" class=\"dataframe\">\n",
       "  <thead>\n",
       "    <tr style=\"text-align: right;\">\n",
       "      <th></th>\n",
       "      <th>office</th>\n",
       "      <th>2013</th>\n",
       "      <th>2014</th>\n",
       "      <th>2015</th>\n",
       "      <th>2016</th>\n",
       "      <th>2017</th>\n",
       "      <th>2018</th>\n",
       "      <th>2019</th>\n",
       "      <th>2020</th>\n",
       "    </tr>\n",
       "  </thead>\n",
       "  <tbody>\n",
       "    <tr>\n",
       "      <th>0</th>\n",
       "      <td>NY</td>\n",
       "      <td>45</td>\n",
       "      <td>31</td>\n",
       "      <td>34</td>\n",
       "      <td>56</td>\n",
       "      <td>67</td>\n",
       "      <td>45</td>\n",
       "      <td>67</td>\n",
       "      <td>45</td>\n",
       "    </tr>\n",
       "    <tr>\n",
       "      <th>1</th>\n",
       "      <td>BOS</td>\n",
       "      <td>34</td>\n",
       "      <td>23</td>\n",
       "      <td>24</td>\n",
       "      <td>26</td>\n",
       "      <td>25</td>\n",
       "      <td>34</td>\n",
       "      <td>26</td>\n",
       "      <td>22</td>\n",
       "    </tr>\n",
       "    <tr>\n",
       "      <th>2</th>\n",
       "      <td>MIA</td>\n",
       "      <td>45</td>\n",
       "      <td>81</td>\n",
       "      <td>43</td>\n",
       "      <td>44</td>\n",
       "      <td>41</td>\n",
       "      <td>45</td>\n",
       "      <td>51</td>\n",
       "      <td>41</td>\n",
       "    </tr>\n",
       "    <tr>\n",
       "      <th>3</th>\n",
       "      <td>DC</td>\n",
       "      <td>12</td>\n",
       "      <td>13</td>\n",
       "      <td>15</td>\n",
       "      <td>11</td>\n",
       "      <td>11</td>\n",
       "      <td>18</td>\n",
       "      <td>19</td>\n",
       "      <td>20</td>\n",
       "    </tr>\n",
       "    <tr>\n",
       "      <th>4</th>\n",
       "      <td>SEA</td>\n",
       "      <td>52</td>\n",
       "      <td>48</td>\n",
       "      <td>47</td>\n",
       "      <td>41</td>\n",
       "      <td>41</td>\n",
       "      <td>42</td>\n",
       "      <td>44</td>\n",
       "      <td>42</td>\n",
       "    </tr>\n",
       "    <tr>\n",
       "      <th>5</th>\n",
       "      <td>PHI</td>\n",
       "      <td>43</td>\n",
       "      <td>39</td>\n",
       "      <td>38</td>\n",
       "      <td>38</td>\n",
       "      <td>33</td>\n",
       "      <td>35</td>\n",
       "      <td>41</td>\n",
       "      <td>40</td>\n",
       "    </tr>\n",
       "    <tr>\n",
       "      <th>6</th>\n",
       "      <td>CHI</td>\n",
       "      <td>36</td>\n",
       "      <td>35</td>\n",
       "      <td>36</td>\n",
       "      <td>39</td>\n",
       "      <td>38</td>\n",
       "      <td>33</td>\n",
       "      <td>29</td>\n",
       "      <td>27</td>\n",
       "    </tr>\n",
       "  </tbody>\n",
       "</table>\n",
       "</div>"
      ],
      "text/plain": [
       "  office  2013  2014  2015  2016  2017  2018  2019  2020\n",
       "0     NY    45    31    34    56    67    45    67    45\n",
       "1    BOS    34    23    24    26    25    34    26    22\n",
       "2    MIA    45    81    43    44    41    45    51    41\n",
       "3     DC    12    13    15    11    11    18    19    20\n",
       "4    SEA    52    48    47    41    41    42    44    42\n",
       "5    PHI    43    39    38    38    33    35    41    40\n",
       "6    CHI    36    35    36    39    38    33    29    27"
      ]
     },
     "execution_count": 3,
     "metadata": {},
     "output_type": "execute_result"
    }
   ],
   "source": [
    "# Verify the data was read correctly.\n",
    "df"
   ]
  },
  {
   "cell_type": "markdown",
   "id": "3cfee1b4-2f75-498c-bfcf-57dce1e56388",
   "metadata": {},
   "source": [
    "****"
   ]
  },
  {
   "cell_type": "markdown",
   "id": "308a6faa-2b43-4f53-a5d8-4e6fc595a7c8",
   "metadata": {},
   "source": [
    "#### Q2\n",
    "Is the dataset in optimal form for analysis in which each column represents a variable/feature? Why or why not?"
   ]
  },
  {
   "cell_type": "markdown",
   "id": "ad001f71-d92a-4dfe-89b6-07e2f86da7e9",
   "metadata": {},
   "source": [
    "The dataset is not in an optimal form for analysis because the table is in a wide format with column for each year. This makes analysis difficult. <br>\n",
    "\n",
    "Instead, each column should represent a single variable and each row should represent a single observation. To accomplish this, the year columns should be unpivoted."
   ]
  },
  {
   "cell_type": "markdown",
   "id": "f3d5e021-b68b-4e65-a774-cf497d3e728b",
   "metadata": {},
   "source": [
    "****"
   ]
  },
  {
   "cell_type": "markdown",
   "id": "a085404b-1a6d-4828-8d65-07d94fd4f501",
   "metadata": {},
   "source": [
    "#### Q3\n",
    "Transform the dataframe so that it contains three columns--city, year, and sales--and save it as a new dataframe called d2."
   ]
  },
  {
   "cell_type": "code",
   "execution_count": 4,
   "id": "e89f97cf-a78e-49bf-a424-434fa2677af3",
   "metadata": {},
   "outputs": [],
   "source": [
    "# Transform df to unpivot year.\n",
    "d2 = df.melt(id_vars = ['office'],\n",
    "             var_name = 'year',\n",
    "             value_name = 'sales')"
   ]
  },
  {
   "cell_type": "code",
   "execution_count": 5,
   "id": "da7ef31c-94f5-4410-b022-141ec956d628",
   "metadata": {},
   "outputs": [
    {
     "data": {
      "text/html": [
       "<div>\n",
       "<style scoped>\n",
       "    .dataframe tbody tr th:only-of-type {\n",
       "        vertical-align: middle;\n",
       "    }\n",
       "\n",
       "    .dataframe tbody tr th {\n",
       "        vertical-align: top;\n",
       "    }\n",
       "\n",
       "    .dataframe thead th {\n",
       "        text-align: right;\n",
       "    }\n",
       "</style>\n",
       "<table border=\"1\" class=\"dataframe\">\n",
       "  <thead>\n",
       "    <tr style=\"text-align: right;\">\n",
       "      <th></th>\n",
       "      <th>office</th>\n",
       "      <th>year</th>\n",
       "      <th>sales</th>\n",
       "    </tr>\n",
       "  </thead>\n",
       "  <tbody>\n",
       "    <tr>\n",
       "      <th>0</th>\n",
       "      <td>NY</td>\n",
       "      <td>2013</td>\n",
       "      <td>45</td>\n",
       "    </tr>\n",
       "    <tr>\n",
       "      <th>1</th>\n",
       "      <td>BOS</td>\n",
       "      <td>2013</td>\n",
       "      <td>34</td>\n",
       "    </tr>\n",
       "    <tr>\n",
       "      <th>2</th>\n",
       "      <td>MIA</td>\n",
       "      <td>2013</td>\n",
       "      <td>45</td>\n",
       "    </tr>\n",
       "    <tr>\n",
       "      <th>3</th>\n",
       "      <td>DC</td>\n",
       "      <td>2013</td>\n",
       "      <td>12</td>\n",
       "    </tr>\n",
       "    <tr>\n",
       "      <th>4</th>\n",
       "      <td>SEA</td>\n",
       "      <td>2013</td>\n",
       "      <td>52</td>\n",
       "    </tr>\n",
       "  </tbody>\n",
       "</table>\n",
       "</div>"
      ],
      "text/plain": [
       "  office  year  sales\n",
       "0     NY  2013     45\n",
       "1    BOS  2013     34\n",
       "2    MIA  2013     45\n",
       "3     DC  2013     12\n",
       "4    SEA  2013     52"
      ]
     },
     "execution_count": 5,
     "metadata": {},
     "output_type": "execute_result"
    }
   ],
   "source": [
    "# Verify the data was read correctly.\n",
    "d2.head()"
   ]
  },
  {
   "cell_type": "markdown",
   "id": "d0f8d2e7-3bfc-480f-880f-c7b722eea58a",
   "metadata": {},
   "source": [
    "****"
   ]
  },
  {
   "cell_type": "markdown",
   "id": "6bc7d418-270d-40c1-806e-0f06d8bb4523",
   "metadata": {},
   "source": [
    "#### Q4\n",
    "Determine which office in the data had the highest mean sales between 2014 and 2020 (inclusive)"
   ]
  },
  {
   "cell_type": "code",
   "execution_count": 6,
   "id": "dc58e087-72e3-40fd-8b8f-ffe889647934",
   "metadata": {},
   "outputs": [
    {
     "data": {
      "text/html": [
       "<div>\n",
       "<style scoped>\n",
       "    .dataframe tbody tr th:only-of-type {\n",
       "        vertical-align: middle;\n",
       "    }\n",
       "\n",
       "    .dataframe tbody tr th {\n",
       "        vertical-align: top;\n",
       "    }\n",
       "\n",
       "    .dataframe thead th {\n",
       "        text-align: right;\n",
       "    }\n",
       "</style>\n",
       "<table border=\"1\" class=\"dataframe\">\n",
       "  <thead>\n",
       "    <tr style=\"text-align: right;\">\n",
       "      <th></th>\n",
       "      <th>office</th>\n",
       "      <th>sales</th>\n",
       "    </tr>\n",
       "  </thead>\n",
       "  <tbody>\n",
       "    <tr>\n",
       "      <th>0</th>\n",
       "      <td>MIA</td>\n",
       "      <td>49.428571</td>\n",
       "    </tr>\n",
       "    <tr>\n",
       "      <th>1</th>\n",
       "      <td>NY</td>\n",
       "      <td>49.285714</td>\n",
       "    </tr>\n",
       "    <tr>\n",
       "      <th>2</th>\n",
       "      <td>SEA</td>\n",
       "      <td>43.571429</td>\n",
       "    </tr>\n",
       "    <tr>\n",
       "      <th>3</th>\n",
       "      <td>PHI</td>\n",
       "      <td>37.714286</td>\n",
       "    </tr>\n",
       "    <tr>\n",
       "      <th>4</th>\n",
       "      <td>CHI</td>\n",
       "      <td>33.857143</td>\n",
       "    </tr>\n",
       "    <tr>\n",
       "      <th>5</th>\n",
       "      <td>BOS</td>\n",
       "      <td>25.714286</td>\n",
       "    </tr>\n",
       "    <tr>\n",
       "      <th>6</th>\n",
       "      <td>DC</td>\n",
       "      <td>15.285714</td>\n",
       "    </tr>\n",
       "  </tbody>\n",
       "</table>\n",
       "</div>"
      ],
      "text/plain": [
       "  office      sales\n",
       "0    MIA  49.428571\n",
       "1     NY  49.285714\n",
       "2    SEA  43.571429\n",
       "3    PHI  37.714286\n",
       "4    CHI  33.857143\n",
       "5    BOS  25.714286\n",
       "6     DC  15.285714"
      ]
     },
     "execution_count": 6,
     "metadata": {},
     "output_type": "execute_result"
    }
   ],
   "source": [
    "# Filter to 2014-2020\n",
    "d2_q4 = d2[(d2['year'] >= 2014) & (d2['year'] <= 2020)]\n",
    "\n",
    "# Summarize means sales by office\n",
    "d2_q4 = d2_q4.groupby('office')['sales'].mean()\n",
    "\n",
    "# Sort Values\n",
    "d2_q4 = d2_q4.sort_values(ascending = False)\n",
    "\n",
    "# Reset index\n",
    "d2_q4 = d2_q4.reset_index()\n",
    "\n",
    "d2_q4"
   ]
  },
  {
   "cell_type": "code",
   "execution_count": 7,
   "id": "4aec28e3-98e8-4ffc-bea3-eda3f1d355fd",
   "metadata": {},
   "outputs": [
    {
     "data": {
      "text/html": [
       "<div>\n",
       "<style scoped>\n",
       "    .dataframe tbody tr th:only-of-type {\n",
       "        vertical-align: middle;\n",
       "    }\n",
       "\n",
       "    .dataframe tbody tr th {\n",
       "        vertical-align: top;\n",
       "    }\n",
       "\n",
       "    .dataframe thead th {\n",
       "        text-align: right;\n",
       "    }\n",
       "</style>\n",
       "<table border=\"1\" class=\"dataframe\">\n",
       "  <thead>\n",
       "    <tr style=\"text-align: right;\">\n",
       "      <th></th>\n",
       "      <th>office</th>\n",
       "      <th>sales</th>\n",
       "    </tr>\n",
       "  </thead>\n",
       "  <tbody>\n",
       "    <tr>\n",
       "      <th>0</th>\n",
       "      <td>MIA</td>\n",
       "      <td>49.428571</td>\n",
       "    </tr>\n",
       "  </tbody>\n",
       "</table>\n",
       "</div>"
      ],
      "text/plain": [
       "  office      sales\n",
       "0    MIA  49.428571"
      ]
     },
     "execution_count": 7,
     "metadata": {},
     "output_type": "execute_result"
    }
   ],
   "source": [
    "# Office with highest mean sales between 2014-2020\n",
    "d2_q4.head(1)"
   ]
  },
  {
   "cell_type": "markdown",
   "id": "f55927ca-4f57-4da6-92d0-73050cfad00d",
   "metadata": {},
   "source": [
    "****"
   ]
  },
  {
   "cell_type": "markdown",
   "id": "d5e2a883-919d-434c-99e7-4ddd895f6f51",
   "metadata": {},
   "source": [
    "#### Q5\n",
    "Calculate and plot mean sales by year across all offices."
   ]
  },
  {
   "cell_type": "code",
   "execution_count": 8,
   "id": "5b1c2227-ffc5-4761-9c27-dbeb7b694d9e",
   "metadata": {},
   "outputs": [],
   "source": [
    "# Import libraries\n",
    "import seaborn as sns\n",
    "import matplotlib.pyplot as plt"
   ]
  },
  {
   "cell_type": "code",
   "execution_count": 21,
   "id": "0ac26eca-f179-4d2a-aaac-48ed512da006",
   "metadata": {},
   "outputs": [
    {
     "data": {
      "text/html": [
       "<div>\n",
       "<style scoped>\n",
       "    .dataframe tbody tr th:only-of-type {\n",
       "        vertical-align: middle;\n",
       "    }\n",
       "\n",
       "    .dataframe tbody tr th {\n",
       "        vertical-align: top;\n",
       "    }\n",
       "\n",
       "    .dataframe thead th {\n",
       "        text-align: right;\n",
       "    }\n",
       "</style>\n",
       "<table border=\"1\" class=\"dataframe\">\n",
       "  <thead>\n",
       "    <tr style=\"text-align: right;\">\n",
       "      <th></th>\n",
       "      <th>year</th>\n",
       "      <th>sales</th>\n",
       "    </tr>\n",
       "  </thead>\n",
       "  <tbody>\n",
       "    <tr>\n",
       "      <th>0</th>\n",
       "      <td>2013</td>\n",
       "      <td>38.142857</td>\n",
       "    </tr>\n",
       "    <tr>\n",
       "      <th>1</th>\n",
       "      <td>2014</td>\n",
       "      <td>38.571429</td>\n",
       "    </tr>\n",
       "    <tr>\n",
       "      <th>2</th>\n",
       "      <td>2015</td>\n",
       "      <td>33.857143</td>\n",
       "    </tr>\n",
       "    <tr>\n",
       "      <th>3</th>\n",
       "      <td>2016</td>\n",
       "      <td>36.428571</td>\n",
       "    </tr>\n",
       "    <tr>\n",
       "      <th>4</th>\n",
       "      <td>2017</td>\n",
       "      <td>36.571429</td>\n",
       "    </tr>\n",
       "    <tr>\n",
       "      <th>5</th>\n",
       "      <td>2018</td>\n",
       "      <td>36.000000</td>\n",
       "    </tr>\n",
       "    <tr>\n",
       "      <th>6</th>\n",
       "      <td>2019</td>\n",
       "      <td>39.571429</td>\n",
       "    </tr>\n",
       "    <tr>\n",
       "      <th>7</th>\n",
       "      <td>2020</td>\n",
       "      <td>33.857143</td>\n",
       "    </tr>\n",
       "  </tbody>\n",
       "</table>\n",
       "</div>"
      ],
      "text/plain": [
       "   year      sales\n",
       "0  2013  38.142857\n",
       "1  2014  38.571429\n",
       "2  2015  33.857143\n",
       "3  2016  36.428571\n",
       "4  2017  36.571429\n",
       "5  2018  36.000000\n",
       "6  2019  39.571429\n",
       "7  2020  33.857143"
      ]
     },
     "execution_count": 21,
     "metadata": {},
     "output_type": "execute_result"
    }
   ],
   "source": [
    "# Summarize mean sales by year\n",
    "d2_mean = d2.groupby('year')['sales'].mean().reset_index()\n",
    "d2_mean"
   ]
  },
  {
   "cell_type": "code",
   "execution_count": 22,
   "id": "cfbf4851-30de-4bab-b932-f9bba27ae01f",
   "metadata": {},
   "outputs": [
    {
     "data": {
      "image/png": "[encoded data removed]",
      "text/plain": [
       "<Figure size 640x480 with 1 Axes>"
      ]
     },
     "metadata": {},
     "output_type": "display_data"
    }
   ],
   "source": [
    "# Visualize \n",
    "sns.lineplot(data = d2_mean, \n",
    "             x = 'year', \n",
    "             y = 'sales')\n",
    "plt.title('Mean Sales by Year')\n",
    "plt.xlabel('Year')\n",
    "plt.ylabel('Mean Sales')\n",
    "plt.show()"
   ]
  },
  {
   "cell_type": "markdown",
   "id": "34ec3121-2cfa-496b-9267-fbc6e10420d4",
   "metadata": {},
   "source": [
    "****"
   ]
  },
  {
   "cell_type": "markdown",
   "id": "3e827cf6-7e7e-446e-a334-ef42126a509d",
   "metadata": {},
   "source": [
    "#### Q6 \n",
    "Plot (with altair or seaborn) the sales overtime in a line plot and color the lines by office."
   ]
  },
  {
   "cell_type": "code",
   "execution_count": 11,
   "id": "e7bdd708-cd59-4c2a-841e-af4e493c5e45",
   "metadata": {},
   "outputs": [
    {
     "data": {
      "image/png": "[encoded data removed]",
      "text/plain": [
       "<Figure size 640x480 with 1 Axes>"
      ]
     },
     "metadata": {},
     "output_type": "display_data"
    }
   ],
   "source": [
    "# Visualize\n",
    "sns.lineplot(data = d2, \n",
    "             x = 'year', \n",
    "             y = 'sales',\n",
    "             hue = 'office')\n",
    "plt.title('Sales Over Time by Office')\n",
    "plt.xlabel('Year')\n",
    "plt.ylabel('Sales')\n",
    "plt.show()"
   ]
  },
  {
   "cell_type": "markdown",
   "id": "83035132-7ad8-4433-89ad-ca4ded022fb4",
   "metadata": {},
   "source": [
    "****"
   ]
  },
  {
   "cell_type": "markdown",
   "id": "c6973f2f-89b7-448b-a4fa-3b156684c56f",
   "metadata": {},
   "source": [
    "#### Q7\n",
    "Every year, this dataset is updated with new data. Define a function called \"clean_sales\" that takes a file name, reads in the data so that there are no missing values and the result contains only the data on offices and sales and no additional text or notes, and then transforms the dataframe so that it contains three columns: city, year, and sales. The function should return the dataframe with three columns: city, year, sales."
   ]
  },
  {
   "cell_type": "code",
   "execution_count": 12,
   "id": "06151e2f-a8ba-4ee5-8322-ab7c95b94170",
   "metadata": {},
   "outputs": [],
   "source": [
    "# Define function called 'clean_sales\n",
    "def clean_sales(file_name):\n",
    "    # Read the file\n",
    "    df = pd.read_excel(file_name,\n",
    "                       skiprows = 3,\n",
    "                       skipfooter = 4)\n",
    "    \n",
    "    # Remove any missing values\n",
    "    df = df.dropna()\n",
    "    \n",
    "    # Unpivot Data Frame\n",
    "    df = df.melt(id_vars = 'office',\n",
    "                 var_name = 'year',\n",
    "                 value_name = 'sales')\n",
    "\n",
    "    # Rename office to city\n",
    "    df = df.rename(columns = {'office': 'city'})\n",
    "    \n",
    "    # Return data frame\n",
    "    return df"
   ]
  },
  {
   "cell_type": "code",
   "execution_count": 13,
   "id": "3fb4823f-6c99-464e-8af7-59cca1da4f64",
   "metadata": {},
   "outputs": [
    {
     "data": {
      "text/html": [
       "<div>\n",
       "<style scoped>\n",
       "    .dataframe tbody tr th:only-of-type {\n",
       "        vertical-align: middle;\n",
       "    }\n",
       "\n",
       "    .dataframe tbody tr th {\n",
       "        vertical-align: top;\n",
       "    }\n",
       "\n",
       "    .dataframe thead th {\n",
       "        text-align: right;\n",
       "    }\n",
       "</style>\n",
       "<table border=\"1\" class=\"dataframe\">\n",
       "  <thead>\n",
       "    <tr style=\"text-align: right;\">\n",
       "      <th></th>\n",
       "      <th>city</th>\n",
       "      <th>year</th>\n",
       "      <th>sales</th>\n",
       "    </tr>\n",
       "  </thead>\n",
       "  <tbody>\n",
       "    <tr>\n",
       "      <th>0</th>\n",
       "      <td>NY</td>\n",
       "      <td>2013</td>\n",
       "      <td>45</td>\n",
       "    </tr>\n",
       "    <tr>\n",
       "      <th>1</th>\n",
       "      <td>BOS</td>\n",
       "      <td>2013</td>\n",
       "      <td>34</td>\n",
       "    </tr>\n",
       "    <tr>\n",
       "      <th>2</th>\n",
       "      <td>MIA</td>\n",
       "      <td>2013</td>\n",
       "      <td>45</td>\n",
       "    </tr>\n",
       "    <tr>\n",
       "      <th>3</th>\n",
       "      <td>DC</td>\n",
       "      <td>2013</td>\n",
       "      <td>12</td>\n",
       "    </tr>\n",
       "    <tr>\n",
       "      <th>4</th>\n",
       "      <td>SEA</td>\n",
       "      <td>2013</td>\n",
       "      <td>52</td>\n",
       "    </tr>\n",
       "  </tbody>\n",
       "</table>\n",
       "</div>"
      ],
      "text/plain": [
       "  city  year  sales\n",
       "0   NY  2013     45\n",
       "1  BOS  2013     34\n",
       "2  MIA  2013     45\n",
       "3   DC  2013     12\n",
       "4  SEA  2013     52"
      ]
     },
     "execution_count": 13,
     "metadata": {},
     "output_type": "execute_result"
    }
   ],
   "source": [
    "# Test function\n",
    "d20 = clean_sales('city_sales20.xlsx')\n",
    "d20.head()"
   ]
  },
  {
   "cell_type": "markdown",
   "id": "2a0463d1-16ca-42a6-9bc6-ab855c8d2b6b",
   "metadata": {},
   "source": [
    "****"
   ]
  },
  {
   "cell_type": "markdown",
   "id": "2a722e7b-5c8d-430a-bd38-c7dadfca3b9c",
   "metadata": {},
   "source": [
    "#### Q8\n",
    "Apply the function to another dataset city_sales21.xlsx and create the a dataframe called d21 with the result. Return the last five rows of d21."
   ]
  },
  {
   "cell_type": "code",
   "execution_count": 14,
   "id": "3dc5c49b-2789-478f-8b81-ed1f09e5861c",
   "metadata": {},
   "outputs": [
    {
     "data": {
      "text/html": [
       "<div>\n",
       "<style scoped>\n",
       "    .dataframe tbody tr th:only-of-type {\n",
       "        vertical-align: middle;\n",
       "    }\n",
       "\n",
       "    .dataframe tbody tr th {\n",
       "        vertical-align: top;\n",
       "    }\n",
       "\n",
       "    .dataframe thead th {\n",
       "        text-align: right;\n",
       "    }\n",
       "</style>\n",
       "<table border=\"1\" class=\"dataframe\">\n",
       "  <thead>\n",
       "    <tr style=\"text-align: right;\">\n",
       "      <th></th>\n",
       "      <th>city</th>\n",
       "      <th>year</th>\n",
       "      <th>sales</th>\n",
       "    </tr>\n",
       "  </thead>\n",
       "  <tbody>\n",
       "    <tr>\n",
       "      <th>58</th>\n",
       "      <td>MIA</td>\n",
       "      <td>2021</td>\n",
       "      <td>74</td>\n",
       "    </tr>\n",
       "    <tr>\n",
       "      <th>59</th>\n",
       "      <td>DC</td>\n",
       "      <td>2021</td>\n",
       "      <td>20</td>\n",
       "    </tr>\n",
       "    <tr>\n",
       "      <th>60</th>\n",
       "      <td>SEA</td>\n",
       "      <td>2021</td>\n",
       "      <td>37</td>\n",
       "    </tr>\n",
       "    <tr>\n",
       "      <th>61</th>\n",
       "      <td>PHI</td>\n",
       "      <td>2021</td>\n",
       "      <td>32</td>\n",
       "    </tr>\n",
       "    <tr>\n",
       "      <th>62</th>\n",
       "      <td>CHI</td>\n",
       "      <td>2021</td>\n",
       "      <td>28</td>\n",
       "    </tr>\n",
       "  </tbody>\n",
       "</table>\n",
       "</div>"
      ],
      "text/plain": [
       "   city  year  sales\n",
       "58  MIA  2021     74\n",
       "59   DC  2021     20\n",
       "60  SEA  2021     37\n",
       "61  PHI  2021     32\n",
       "62  CHI  2021     28"
      ]
     },
     "execution_count": 14,
     "metadata": {},
     "output_type": "execute_result"
    }
   ],
   "source": [
    "# Read city_sales21.xlsx\n",
    "d21 = clean_sales('city_sales21.xlsx')\n",
    "\n",
    "# Return last five rows of d21\n",
    "d21.tail(5)"
   ]
  },
  {
   "cell_type": "markdown",
   "id": "e3ee9d56-668c-4b7e-a556-0397f8889ffe",
   "metadata": {},
   "source": [
    "****"
   ]
  },
  {
   "cell_type": "markdown",
   "id": "7403d61b-4424-442d-8779-b982dbdc8d60",
   "metadata": {},
   "source": [
    "#### Q9\n",
    "Use seaborn or altair to create a sorted (low to high) bar plot of the sales data by office from 2021. Which office has the highest sales?"
   ]
  },
  {
   "cell_type": "code",
   "execution_count": 15,
   "id": "2a739a8b-84c9-4c48-9148-be644a90c68b",
   "metadata": {},
   "outputs": [
    {
     "data": {
      "text/html": [
       "<div>\n",
       "<style scoped>\n",
       "    .dataframe tbody tr th:only-of-type {\n",
       "        vertical-align: middle;\n",
       "    }\n",
       "\n",
       "    .dataframe tbody tr th {\n",
       "        vertical-align: top;\n",
       "    }\n",
       "\n",
       "    .dataframe thead th {\n",
       "        text-align: right;\n",
       "    }\n",
       "</style>\n",
       "<table border=\"1\" class=\"dataframe\">\n",
       "  <thead>\n",
       "    <tr style=\"text-align: right;\">\n",
       "      <th></th>\n",
       "      <th>city</th>\n",
       "      <th>sales</th>\n",
       "    </tr>\n",
       "  </thead>\n",
       "  <tbody>\n",
       "    <tr>\n",
       "      <th>0</th>\n",
       "      <td>MIA</td>\n",
       "      <td>74</td>\n",
       "    </tr>\n",
       "    <tr>\n",
       "      <th>1</th>\n",
       "      <td>SEA</td>\n",
       "      <td>37</td>\n",
       "    </tr>\n",
       "    <tr>\n",
       "      <th>2</th>\n",
       "      <td>NY</td>\n",
       "      <td>35</td>\n",
       "    </tr>\n",
       "    <tr>\n",
       "      <th>3</th>\n",
       "      <td>PHI</td>\n",
       "      <td>32</td>\n",
       "    </tr>\n",
       "    <tr>\n",
       "      <th>4</th>\n",
       "      <td>CHI</td>\n",
       "      <td>28</td>\n",
       "    </tr>\n",
       "    <tr>\n",
       "      <th>5</th>\n",
       "      <td>BOS</td>\n",
       "      <td>20</td>\n",
       "    </tr>\n",
       "    <tr>\n",
       "      <th>6</th>\n",
       "      <td>DC</td>\n",
       "      <td>20</td>\n",
       "    </tr>\n",
       "  </tbody>\n",
       "</table>\n",
       "</div>"
      ],
      "text/plain": [
       "  city  sales\n",
       "0  MIA     74\n",
       "1  SEA     37\n",
       "2   NY     35\n",
       "3  PHI     32\n",
       "4  CHI     28\n",
       "5  BOS     20\n",
       "6   DC     20"
      ]
     },
     "execution_count": 15,
     "metadata": {},
     "output_type": "execute_result"
    }
   ],
   "source": [
    "# Summarize 2021 sales by office.\n",
    "sales_2021 = d21[d21['year'] == 2021] # Filter to 2021\n",
    "sales_2021 = sales_2021.groupby('city')['sales'].sum() # Group by office\n",
    "sales_2021 = sales_2021.sort_values(ascending = False) # Sort Values\n",
    "sales_2021 = sales_2021.reset_index() # Reset index\n",
    "sales_2021"
   ]
  },
  {
   "cell_type": "code",
   "execution_count": 16,
   "id": "b5dd295a-c7ff-4085-9c18-d34d08693514",
   "metadata": {},
   "outputs": [
    {
     "data": {
      "image/png": "[encoded data removed]",
      "text/plain": [
       "<Figure size 640x480 with 1 Axes>"
      ]
     },
     "metadata": {},
     "output_type": "display_data"
    }
   ],
   "source": [
    "# Visualize with bar plot\n",
    "sns.barplot(data = sales_2021,\n",
    "            x = 'sales',\n",
    "            y = 'city')\n",
    "plt.title('Sales by Office in 2021')\n",
    "plt.xlabel('Sales')\n",
    "plt.ylabel('Office')\n",
    "plt.show()"
   ]
  },
  {
   "cell_type": "code",
   "execution_count": 17,
   "id": "995cc6c3-d0a0-4735-b824-627e13acf44d",
   "metadata": {},
   "outputs": [
    {
     "data": {
      "text/html": [
       "<div>\n",
       "<style scoped>\n",
       "    .dataframe tbody tr th:only-of-type {\n",
       "        vertical-align: middle;\n",
       "    }\n",
       "\n",
       "    .dataframe tbody tr th {\n",
       "        vertical-align: top;\n",
       "    }\n",
       "\n",
       "    .dataframe thead th {\n",
       "        text-align: right;\n",
       "    }\n",
       "</style>\n",
       "<table border=\"1\" class=\"dataframe\">\n",
       "  <thead>\n",
       "    <tr style=\"text-align: right;\">\n",
       "      <th></th>\n",
       "      <th>city</th>\n",
       "      <th>sales</th>\n",
       "    </tr>\n",
       "  </thead>\n",
       "  <tbody>\n",
       "    <tr>\n",
       "      <th>0</th>\n",
       "      <td>MIA</td>\n",
       "      <td>74</td>\n",
       "    </tr>\n",
       "  </tbody>\n",
       "</table>\n",
       "</div>"
      ],
      "text/plain": [
       "  city  sales\n",
       "0  MIA     74"
      ]
     },
     "execution_count": 17,
     "metadata": {},
     "output_type": "execute_result"
    }
   ],
   "source": [
    "# Identify office with highest sales\n",
    "sales_2021[sales_2021['sales'] == sales_2021['sales'].max()]"
   ]
  },
  {
   "cell_type": "markdown",
   "id": "2114f8f4-18be-4d67-b86e-2ab6c739766b",
   "metadata": {},
   "source": [
    "****"
   ]
  },
  {
   "cell_type": "markdown",
   "id": "f4aaf005-8fbc-45bd-9bb3-fc1fe0102004",
   "metadata": {},
   "source": [
    "#### Q10\n",
    "Using d21, what are the top five best performing year-city combinations."
   ]
  },
  {
   "cell_type": "code",
   "execution_count": 18,
   "id": "af51a2f7-cd41-4684-a39d-e4959cedb262",
   "metadata": {},
   "outputs": [
    {
     "data": {
      "text/html": [
       "<div>\n",
       "<style scoped>\n",
       "    .dataframe tbody tr th:only-of-type {\n",
       "        vertical-align: middle;\n",
       "    }\n",
       "\n",
       "    .dataframe tbody tr th {\n",
       "        vertical-align: top;\n",
       "    }\n",
       "\n",
       "    .dataframe thead th {\n",
       "        text-align: right;\n",
       "    }\n",
       "</style>\n",
       "<table border=\"1\" class=\"dataframe\">\n",
       "  <thead>\n",
       "    <tr style=\"text-align: right;\">\n",
       "      <th></th>\n",
       "      <th>city</th>\n",
       "      <th>year</th>\n",
       "      <th>sales</th>\n",
       "    </tr>\n",
       "  </thead>\n",
       "  <tbody>\n",
       "    <tr>\n",
       "      <th>9</th>\n",
       "      <td>MIA</td>\n",
       "      <td>2014</td>\n",
       "      <td>81</td>\n",
       "    </tr>\n",
       "    <tr>\n",
       "      <th>58</th>\n",
       "      <td>MIA</td>\n",
       "      <td>2021</td>\n",
       "      <td>74</td>\n",
       "    </tr>\n",
       "    <tr>\n",
       "      <th>42</th>\n",
       "      <td>NY</td>\n",
       "      <td>2019</td>\n",
       "      <td>67</td>\n",
       "    </tr>\n",
       "    <tr>\n",
       "      <th>28</th>\n",
       "      <td>NY</td>\n",
       "      <td>2017</td>\n",
       "      <td>67</td>\n",
       "    </tr>\n",
       "    <tr>\n",
       "      <th>21</th>\n",
       "      <td>NY</td>\n",
       "      <td>2016</td>\n",
       "      <td>56</td>\n",
       "    </tr>\n",
       "  </tbody>\n",
       "</table>\n",
       "</div>"
      ],
      "text/plain": [
       "   city  year  sales\n",
       "9   MIA  2014     81\n",
       "58  MIA  2021     74\n",
       "42   NY  2019     67\n",
       "28   NY  2017     67\n",
       "21   NY  2016     56"
      ]
     },
     "execution_count": 18,
     "metadata": {},
     "output_type": "execute_result"
    }
   ],
   "source": [
    "# Top five best performing year-city combinations\n",
    "top5 = d21.sort_values(by = 'sales', ascending = False) # Sort by values\n",
    "top5 = top5.head(5) # Filter to top 5 rows\n",
    "top5"
   ]
  },
  {
   "cell_type": "markdown",
   "id": "c82a8b9c-c491-470d-8f31-f9554e4b2afd",
   "metadata": {},
   "source": [
    "****"
   ]
  }
 ],
 "metadata": {
  "kernelspec": {
   "display_name": "Python 3",
   "language": "python",
   "name": "python3"
  },
  "language_info": {
   "codemirror_mode": {
    "name": "ipython",
    "version": 3
   },
   "file_extension": ".py",
   "mimetype": "text/x-python",
   "name": "python",
   "nbconvert_exporter": "python",
   "pygments_lexer": "ipython3",
   "version": "3.12.7"
  }
 },
 "nbformat": 4,
 "nbformat_minor": 5
}
